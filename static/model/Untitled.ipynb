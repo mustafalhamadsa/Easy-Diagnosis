{
 "cells": [
  {
   "cell_type": "code",
   "execution_count": 12,
   "id": "ab8ead01",
   "metadata": {},
   "outputs": [],
   "source": [
    "ls = {\n",
    "    'Diabetes':'2022-04-30 01.07.18.sav',\n",
    "        'CKD':'2018-04-21 16.51.12.sav',\n",
    "        'Diabetes':'2022-04-30 01.07.18.sav',\n",
    "        'Diabetes':'2022-04-30 01.07.18.sav',\n",
    "        'Diabetes':'2022-04-30 01.07.18.sav',\n",
    "        'Diabetes':'2022-04-30 01.07.18.sav',\n",
    "        'Diabetes':'2022-04-30 01.07.18.sav',\n",
    "    \n",
    "}\n",
    "\n",
    "# import pickle\n",
    "# clf = pickle.load(open('hypovoting947368.sav', 'rb'))\n",
    "# clf.__getstate__()['_sklearn_version']"
   ]
  },
  {
   "cell_type": "code",
   "execution_count": null,
   "id": "5b24870a",
   "metadata": {},
   "outputs": [],
   "source": []
  }
 ],
 "metadata": {
  "kernelspec": {
   "display_name": "Python 3 (ipykernel)",
   "language": "python",
   "name": "python3"
  },
  "language_info": {
   "codemirror_mode": {
    "name": "ipython",
    "version": 3
   },
   "file_extension": ".py",
   "mimetype": "text/x-python",
   "name": "python",
   "nbconvert_exporter": "python",
   "pygments_lexer": "ipython3",
   "version": "3.9.7"
  }
 },
 "nbformat": 4,
 "nbformat_minor": 5
}
